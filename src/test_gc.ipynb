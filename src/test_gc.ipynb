{
 "cells": [
  {
   "cell_type": "code",
   "execution_count": 1,
   "metadata": {
    "collapsed": true
   },
   "outputs": [
    {
     "name": "stdout",
     "output_type": "stream",
     "text": [
      "['.ipynb_checkpoints', 'dogs_cats_redux.ipynb', 'convolution-intro.ipynb', 'imagenet_batchnorm.ipynb', 'lesson6.ipynb', 'lesson7.ipynb', 'mnist.ipynb', 'sgd-intro.ipynb', 'lesson3.ipynb', 'lesson1.ipynb', 'run.sh', 'vgg16bn.py', 'lesson5.ipynb', 'lesson4.ipynb', 'vgg16.py', 'wordvectors.ipynb', 'init.sh', 'char-rnn.ipynb', 'utils.py', 'dogscats-ensemble.ipynb', 'statefarm.ipynb', 'lesson2.ipynb', 'statefarm-sample.ipynb', 'resnet50.py']\n"
     ]
    }
   ],
   "source": [
    "import os\n",
    "print os.listdir('.')"
   ]
  },
  {
   "cell_type": "code",
   "execution_count": 3,
   "metadata": {},
   "outputs": [
    {
     "name": "stderr",
     "output_type": "stream",
     "text": [
      "Using TensorFlow backend.\n"
     ]
    }
   ],
   "source": [
    "import keras"
   ]
  }
 ],
 "metadata": {
  "kernelspec": {
   "display_name": "Python 2",
   "language": "python",
   "name": "python2"
  },
  "language_info": {
   "codemirror_mode": {
    "name": "ipython",
    "version": 2.0
   },
   "file_extension": ".py",
   "mimetype": "text/x-python",
   "name": "python",
   "nbconvert_exporter": "python",
   "pygments_lexer": "ipython2",
   "version": "2.7.6"
  }
 },
 "nbformat": 4,
 "nbformat_minor": 0
}